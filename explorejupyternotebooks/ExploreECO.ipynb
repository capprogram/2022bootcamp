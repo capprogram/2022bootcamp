{
 "cells": [
  {
   "cell_type": "markdown",
   "metadata": {},
   "source": [
    "# Short introduction to Jupyter Lab and Jupyter Notebooks\n",
    "\n",
    "\n",
    "## Setup\n",
    "If you see this file in Binder, then have already opened the file\n",
    "\n"
   ]
  },
  {
   "cell_type": "code",
   "execution_count": null,
   "metadata": {},
   "outputs": [],
   "source": [
    "\"\"\"\n",
    "This is a very short jupyter notebook to explore ECO (a survey of galaxies). The mini-project will be to compare the u-r color \n",
    "vs. stellar mass for ECO galaxies.\n",
    "Author: Sheila Kannappan | Modified by: Derrick Carr\n",
    "Created: August 2016 | Modified: May 2021\n",
    "\"\"\"\n",
    "\n",
    "\"\"\"\n",
    "To start, this is an jupyter notebook within the JupyterLab environment. Each cell is run by pressing Shift + Enter.\n",
    "You can also have cells that are just text (these are called Markdown cells), running those cells just turns it into the text you see.\n",
    "You will typically want to run the cells in order. If you try to run one of the later cells first, it may say something such as that you \n",
    "don't have 'np' package imported, as the import command is in this first code cells\n",
    "\n",
    "Try to follow along below to get an idea of how Jupyter Notebooks can be used. \n",
    "\"\"\"\n",
    "\n",
    "\n",
    "\n",
    "# standard imports and naming conventions; uncomment as needed\n",
    "import numpy as np              # basic numerical analysis\n",
    "import matplotlib.pyplot as plt # plotting\n",
    "import scipy.stats as stats     # statistical functions\n",
    "from astroML.plotting import scatter_contour\n",
    "\n",
    "%matplotlib inline"
   ]
  },
  {
   "cell_type": "markdown",
   "metadata": {},
   "source": [
    "We usually obtain ECO data with a sql query to the ECO DR1 \"searchable database\" linked [here](http://resolve.astro.unc.edu/pages/database.php). Note the examples of sql queries given below the database link on the [same page](http://resolve.astro.unc.edu/pages/database.php). \n",
    "\n",
    "To perform the query, I first switched the output choice from \"browse the results of the query\" to \"download the results of the query (CSV)\". Then I typed:\n",
    "\n",
    "`select name, cz, logmstar, modelu_rcorr, r90, morphel, grpcz, fc, logmh, den1mpc where name != \"bunnyrabbits\"`\n",
    "\n",
    "Here `!=` signifies \"not equal to\" and is a way of just getting everything, since none of our galaxies are named \"bunnyrabbits\". My sql query included a number of extra variables just to see how the query fully works.\n",
    "\n",
    "For now, this file should have been downloaded using a wget command in the terminal\n",
    "\n",
    "Below I'm reading in the csv file (which I saved to the same directory as this jupyter notebook) using `np.genfromtxt`, which is more powerful than np.loadtxt and allows me to read in the column names."
   ]
  },
  {
   "cell_type": "code",
   "execution_count": null,
   "metadata": {
    "jupyter": {
     "outputs_hidden": false
    }
   },
   "outputs": [],
   "source": [
    "data = np.genfromtxt(\"ECO_dr1_subset.csv\", delimiter=\",\", dtype=None, names=True, encoding=None) # better than np.loadtxt if have column names"
   ]
  },
  {
   "cell_type": "markdown",
   "metadata": {},
   "source": [
    "Look at the column names available from the csv file."
   ]
  },
  {
   "cell_type": "code",
   "execution_count": null,
   "metadata": {
    "jupyter": {
     "outputs_hidden": false
    }
   },
   "outputs": [],
   "source": [
    "data.dtype.names"
   ]
  },
  {
   "cell_type": "markdown",
   "metadata": {},
   "source": [
    "Address a column by name to see its contents."
   ]
  },
  {
   "cell_type": "code",
   "execution_count": null,
   "metadata": {
    "jupyter": {
     "outputs_hidden": false
    }
   },
   "outputs": [],
   "source": [
    "data['LOGMSTAR'] #log stellar mass in units of solar masses"
   ]
  },
  {
   "cell_type": "markdown",
   "metadata": {},
   "source": [
    "Pull out the variables for the mini-project and choose only the values that are \"good\" to display. (I figured out that there were some bad values by trial and error.)"
   ]
  },
  {
   "cell_type": "code",
   "execution_count": null,
   "metadata": {
    "jupyter": {
     "outputs_hidden": false
    }
   },
   "outputs": [],
   "source": [
    "logmstar = data['LOGMSTAR']\n",
    "urcolor = data['MODELU_RCORR'] #this is a color, redder galaxies have higher numbers (around 2) while bluer galaxies have lower numbers (around 1)\n",
    "sel = np.where((urcolor > -99) & (logmstar > 0) & (logmstar > 9.))\n",
    "logmstar = logmstar[sel]\n",
    "urcolor = urcolor[sel]"
   ]
  },
  {
   "cell_type": "markdown",
   "metadata": {},
   "source": [
    "Run the below code to make a u-r vs. Mstars plot for ECO. The plot will include orange density regions laid overtop black points. The orange just shows roughly how many galaxies fall in that region on the plot, as ECO has over 10000 galaxies -- that's too many points to put on one plot. "
   ]
  },
  {
   "cell_type": "code",
   "execution_count": null,
   "metadata": {
    "jupyter": {
     "outputs_hidden": false
    }
   },
   "outputs": [],
   "source": [
    "fig1, axcolormstar = plt.subplots()\n",
    "axcolormstar = plt.axes()\n",
    "#axcolormstar.plot(logmstar,urcolor,'g.')\n",
    "scatter_contour(logmstar, urcolor, threshold=20, log_counts=True, ax=axcolormstar,\n",
    "                histogram2d_args=dict(bins=20),\n",
    "                plot_args=dict(marker='.', linestyle='none', color='black'),\n",
    "                contour_args=dict(cmap=plt.cm.Oranges))\n",
    "axcolormstar.set_xlabel(\"Log Stellar Mass\")\n",
    "axcolormstar.set_ylabel(\"u-r color\")\n",
    "#axcolormstar.plot([10.5,10.5],[min(urcolor),max(urcolor)])"
   ]
  },
  {
   "cell_type": "markdown",
   "metadata": {},
   "source": [
    "As you can see, Jupyter Notebooks are pretty straight-forward and are a great tool for plot presentations and text to supplement your code. You will get more experience with them in the bootcamp as many of the tutorials use this format. \n",
    "\n",
    "For now, use the same galaxies to create a plot similar to the one above, except have the plot be R90 vs stellar mass (where R90 is the radius at which 90% of the galaxy's light is within) HINT: you may have to modify the R90 column slightly like you did above. I'd suggest doing that in the same cell where you did this for logmstar and urcolor. Just to b"
   ]
  },
  {
   "cell_type": "code",
   "execution_count": null,
   "metadata": {},
   "outputs": [],
   "source": []
  },
  {
   "cell_type": "markdown",
   "metadata": {},
   "source": [
    "Feel free to use the same plotting command to create other plots! For example, u-r color vs logmh (Mass of the galaxy's dark matter halo) may yield some interesting results."
   ]
  },
  {
   "cell_type": "code",
   "execution_count": null,
   "metadata": {},
   "outputs": [],
   "source": []
  }
 ],
 "metadata": {
  "anaconda-cloud": {},
  "celltoolbar": "Raw Cell Format",
  "kernelspec": {
   "display_name": "Python 3",
   "language": "python",
   "name": "python3"
  },
  "language_info": {
   "codemirror_mode": {
    "name": "ipython",
    "version": 3
   },
   "file_extension": ".py",
   "mimetype": "text/x-python",
   "name": "python",
   "nbconvert_exporter": "python",
   "pygments_lexer": "ipython3",
   "version": "3.8.8"
  }
 },
 "nbformat": 4,
 "nbformat_minor": 4
}
